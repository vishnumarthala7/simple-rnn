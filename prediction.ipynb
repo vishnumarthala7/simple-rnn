{
 "cells": [
  {
   "cell_type": "code",
   "execution_count": 1,
   "metadata": {},
   "outputs": [],
   "source": [
    "import numpy as np\n",
    "import tensorflow as tf \n",
    "from tensorflow.keras.datasets import imdb\n",
    "from tensorflow.keras.preprocessing import sequence\n",
    "from tensorflow.keras.models import load_model"
   ]
  },
  {
   "cell_type": "code",
   "execution_count": 2,
   "metadata": {},
   "outputs": [],
   "source": [
    "word_index=imdb.get_word_index()\n",
    "reverse_word_index={value:key for key,value in word_index.items() }\n"
   ]
  },
  {
   "cell_type": "code",
   "execution_count": 4,
   "metadata": {},
   "outputs": [
    {
     "name": "stderr",
     "output_type": "stream",
     "text": [
      "WARNING:absl:Compiled the loaded model, but the compiled metrics have yet to be built. `model.compile_metrics` will be empty until you train or evaluate the model.\n"
     ]
    },
    {
     "data": {
      "text/html": [
       "<pre style=\"white-space:pre;overflow-x:auto;line-height:normal;font-family:Menlo,'DejaVu Sans Mono',consolas,'Courier New',monospace\"><span style=\"font-weight: bold\">Model: \"sequential_1\"</span>\n",
       "</pre>\n"
      ],
      "text/plain": [
       "\u001b[1mModel: \"sequential_1\"\u001b[0m\n"
      ]
     },
     "metadata": {},
     "output_type": "display_data"
    },
    {
     "data": {
      "text/html": [
       "<pre style=\"white-space:pre;overflow-x:auto;line-height:normal;font-family:Menlo,'DejaVu Sans Mono',consolas,'Courier New',monospace\">┏━━━━━━━━━━━━━━━━━━━━━━━━━━━━━━━━━┳━━━━━━━━━━━━━━━━━━━━━━━━┳━━━━━━━━━━━━━━━┓\n",
       "┃<span style=\"font-weight: bold\"> Layer (type)                    </span>┃<span style=\"font-weight: bold\"> Output Shape           </span>┃<span style=\"font-weight: bold\">       Param # </span>┃\n",
       "┡━━━━━━━━━━━━━━━━━━━━━━━━━━━━━━━━━╇━━━━━━━━━━━━━━━━━━━━━━━━╇━━━━━━━━━━━━━━━┩\n",
       "│ embedding_1 (<span style=\"color: #0087ff; text-decoration-color: #0087ff\">Embedding</span>)         │ (<span style=\"color: #00af00; text-decoration-color: #00af00\">32</span>, <span style=\"color: #00af00; text-decoration-color: #00af00\">500</span>, <span style=\"color: #00af00; text-decoration-color: #00af00\">128</span>)         │     <span style=\"color: #00af00; text-decoration-color: #00af00\">1,280,000</span> │\n",
       "├─────────────────────────────────┼────────────────────────┼───────────────┤\n",
       "│ simple_rnn_1 (<span style=\"color: #0087ff; text-decoration-color: #0087ff\">SimpleRNN</span>)        │ (<span style=\"color: #00af00; text-decoration-color: #00af00\">32</span>, <span style=\"color: #00af00; text-decoration-color: #00af00\">128</span>)              │        <span style=\"color: #00af00; text-decoration-color: #00af00\">32,896</span> │\n",
       "├─────────────────────────────────┼────────────────────────┼───────────────┤\n",
       "│ dense_1 (<span style=\"color: #0087ff; text-decoration-color: #0087ff\">Dense</span>)                 │ (<span style=\"color: #00af00; text-decoration-color: #00af00\">32</span>, <span style=\"color: #00af00; text-decoration-color: #00af00\">1</span>)                │           <span style=\"color: #00af00; text-decoration-color: #00af00\">129</span> │\n",
       "└─────────────────────────────────┴────────────────────────┴───────────────┘\n",
       "</pre>\n"
      ],
      "text/plain": [
       "┏━━━━━━━━━━━━━━━━━━━━━━━━━━━━━━━━━┳━━━━━━━━━━━━━━━━━━━━━━━━┳━━━━━━━━━━━━━━━┓\n",
       "┃\u001b[1m \u001b[0m\u001b[1mLayer (type)                   \u001b[0m\u001b[1m \u001b[0m┃\u001b[1m \u001b[0m\u001b[1mOutput Shape          \u001b[0m\u001b[1m \u001b[0m┃\u001b[1m \u001b[0m\u001b[1m      Param #\u001b[0m\u001b[1m \u001b[0m┃\n",
       "┡━━━━━━━━━━━━━━━━━━━━━━━━━━━━━━━━━╇━━━━━━━━━━━━━━━━━━━━━━━━╇━━━━━━━━━━━━━━━┩\n",
       "│ embedding_1 (\u001b[38;5;33mEmbedding\u001b[0m)         │ (\u001b[38;5;34m32\u001b[0m, \u001b[38;5;34m500\u001b[0m, \u001b[38;5;34m128\u001b[0m)         │     \u001b[38;5;34m1,280,000\u001b[0m │\n",
       "├─────────────────────────────────┼────────────────────────┼───────────────┤\n",
       "│ simple_rnn_1 (\u001b[38;5;33mSimpleRNN\u001b[0m)        │ (\u001b[38;5;34m32\u001b[0m, \u001b[38;5;34m128\u001b[0m)              │        \u001b[38;5;34m32,896\u001b[0m │\n",
       "├─────────────────────────────────┼────────────────────────┼───────────────┤\n",
       "│ dense_1 (\u001b[38;5;33mDense\u001b[0m)                 │ (\u001b[38;5;34m32\u001b[0m, \u001b[38;5;34m1\u001b[0m)                │           \u001b[38;5;34m129\u001b[0m │\n",
       "└─────────────────────────────────┴────────────────────────┴───────────────┘\n"
      ]
     },
     "metadata": {},
     "output_type": "display_data"
    },
    {
     "data": {
      "text/html": [
       "<pre style=\"white-space:pre;overflow-x:auto;line-height:normal;font-family:Menlo,'DejaVu Sans Mono',consolas,'Courier New',monospace\"><span style=\"font-weight: bold\"> Total params: </span><span style=\"color: #00af00; text-decoration-color: #00af00\">1,313,027</span> (5.01 MB)\n",
       "</pre>\n"
      ],
      "text/plain": [
       "\u001b[1m Total params: \u001b[0m\u001b[38;5;34m1,313,027\u001b[0m (5.01 MB)\n"
      ]
     },
     "metadata": {},
     "output_type": "display_data"
    },
    {
     "data": {
      "text/html": [
       "<pre style=\"white-space:pre;overflow-x:auto;line-height:normal;font-family:Menlo,'DejaVu Sans Mono',consolas,'Courier New',monospace\"><span style=\"font-weight: bold\"> Trainable params: </span><span style=\"color: #00af00; text-decoration-color: #00af00\">1,313,025</span> (5.01 MB)\n",
       "</pre>\n"
      ],
      "text/plain": [
       "\u001b[1m Trainable params: \u001b[0m\u001b[38;5;34m1,313,025\u001b[0m (5.01 MB)\n"
      ]
     },
     "metadata": {},
     "output_type": "display_data"
    },
    {
     "data": {
      "text/html": [
       "<pre style=\"white-space:pre;overflow-x:auto;line-height:normal;font-family:Menlo,'DejaVu Sans Mono',consolas,'Courier New',monospace\"><span style=\"font-weight: bold\"> Non-trainable params: </span><span style=\"color: #00af00; text-decoration-color: #00af00\">0</span> (0.00 B)\n",
       "</pre>\n"
      ],
      "text/plain": [
       "\u001b[1m Non-trainable params: \u001b[0m\u001b[38;5;34m0\u001b[0m (0.00 B)\n"
      ]
     },
     "metadata": {},
     "output_type": "display_data"
    },
    {
     "data": {
      "text/html": [
       "<pre style=\"white-space:pre;overflow-x:auto;line-height:normal;font-family:Menlo,'DejaVu Sans Mono',consolas,'Courier New',monospace\"><span style=\"font-weight: bold\"> Optimizer params: </span><span style=\"color: #00af00; text-decoration-color: #00af00\">2</span> (12.00 B)\n",
       "</pre>\n"
      ],
      "text/plain": [
       "\u001b[1m Optimizer params: \u001b[0m\u001b[38;5;34m2\u001b[0m (12.00 B)\n"
      ]
     },
     "metadata": {},
     "output_type": "display_data"
    }
   ],
   "source": [
    "model=load_model('sample_rnn_imdb.h5')\n",
    "model.summary()"
   ]
  },
  {
   "cell_type": "code",
   "execution_count": 5,
   "metadata": {},
   "outputs": [
    {
     "data": {
      "text/plain": [
       "[array([[ 0.38426045,  0.10908596, -0.16496488, ...,  0.37936574,\n",
       "         -0.8900685 , -0.6268232 ],\n",
       "        [-0.01809131, -0.06487382,  0.02555013, ..., -0.2306594 ,\n",
       "         -0.0665658 , -0.01387602],\n",
       "        [ 0.01188265, -0.07339416, -0.05919097, ...,  0.05466242,\n",
       "         -0.18465747,  0.09018836],\n",
       "        ...,\n",
       "        [-0.05870612,  0.06027333, -0.01721953, ..., -0.03725205,\n",
       "         -0.10550001, -0.00288746],\n",
       "        [ 0.01866086, -0.05935373, -0.10993663, ..., -0.04181232,\n",
       "         -0.06721332,  0.03103562],\n",
       "        [ 0.00586364,  0.01094986, -0.03687459, ...,  0.03238559,\n",
       "         -0.02027974,  0.02955927]], dtype=float32),\n",
       " array([[ 0.12653945, -0.05249383,  0.00473622, ..., -0.00573673,\n",
       "         -0.04251165,  0.03388092],\n",
       "        [ 0.08316021, -0.13826774, -0.09017738, ..., -0.03948463,\n",
       "          0.09504682,  0.00168532],\n",
       "        [-0.18515739, -0.09088127,  0.01390949, ...,  0.03938114,\n",
       "          0.05810719, -0.1006445 ],\n",
       "        ...,\n",
       "        [-0.05903164, -0.00171755,  0.07708497, ...,  0.08111569,\n",
       "          0.08031551, -0.12880568],\n",
       "        [-0.05138468, -0.05434414, -0.02024658, ...,  0.18627821,\n",
       "          0.11508443,  0.09838463],\n",
       "        [ 0.13601491,  0.17000678, -0.01515445, ...,  0.05985465,\n",
       "         -0.12443645, -0.01391518]], dtype=float32),\n",
       " array([[ 0.00880529,  0.09236431,  0.02296153, ...,  0.07778602,\n",
       "          0.20631024,  0.0154536 ],\n",
       "        [-0.12844431,  0.09418216, -0.04960622, ..., -0.00779771,\n",
       "         -0.05100017, -0.16101287],\n",
       "        [ 0.03342998,  0.10452979,  0.02917583, ..., -0.13103925,\n",
       "          0.06800882,  0.19554313],\n",
       "        ...,\n",
       "        [-0.02702706, -0.03283765, -0.04808596, ..., -0.09629569,\n",
       "         -0.01968406, -0.01463612],\n",
       "        [ 0.22226954,  0.35923728, -0.04463931, ..., -0.05415569,\n",
       "         -0.03291515, -0.09996192],\n",
       "        [-0.00846496, -0.02873035,  0.05204233, ..., -0.10547183,\n",
       "          0.07034612, -0.05853054]], dtype=float32),\n",
       " array([ 0.00403003,  0.07190515, -0.01938909, -0.00858171,  0.03729514,\n",
       "         0.00813625, -0.02980311,  0.02489939,  0.04301122, -0.04538051,\n",
       "         0.0034892 , -0.05015773, -0.0221926 ,  0.00809474, -0.01505757,\n",
       "        -0.01475634, -0.04610651, -0.06017768, -0.01783051, -0.03011063,\n",
       "        -0.03648135, -0.01410518, -0.01471329, -0.01579395,  0.05998665,\n",
       "         0.07294835,  0.05162074,  0.0092499 , -0.01732715, -0.00375463,\n",
       "        -0.0570169 ,  0.03402681,  0.01850488, -0.0360845 , -0.04148548,\n",
       "        -0.05087307, -0.05284672,  0.03964859, -0.0100206 ,  0.00987   ,\n",
       "        -0.01496558, -0.00865471, -0.01760945,  0.02991999,  0.00831674,\n",
       "         0.0021713 , -0.05571473, -0.03494728,  0.0389739 ,  0.03419516,\n",
       "        -0.03919203, -0.00064263, -0.0021094 , -0.00045102, -0.01391595,\n",
       "         0.00937901, -0.03229099,  0.03961886,  0.00446692, -0.04752477,\n",
       "        -0.0478221 , -0.03133097, -0.01390022, -0.0451061 ,  0.01955644,\n",
       "         0.00318285, -0.00884243, -0.01853846, -0.02626231,  0.02509113,\n",
       "         0.02429599,  0.01604705,  0.00832104, -0.0448987 , -0.04371716,\n",
       "         0.04199904, -0.01258835, -0.03975743, -0.02977016, -0.03104484,\n",
       "         0.04231419,  0.01194181, -0.03344249,  0.00552138,  0.03876955,\n",
       "         0.06062759, -0.00564523, -0.0024514 , -0.00310472, -0.06578749,\n",
       "        -0.0327935 ,  0.03211343,  0.02869467, -0.00344012, -0.04919795,\n",
       "         0.02061709,  0.00872947, -0.00393874,  0.02224974, -0.04311113,\n",
       "        -0.00987667,  0.02164742,  0.00387031, -0.04419084, -0.0271824 ,\n",
       "         0.01170611, -0.01943303, -0.05167433, -0.0133853 , -0.02566497,\n",
       "        -0.02756894, -0.03326607,  0.04272782,  0.029178  , -0.01217079,\n",
       "        -0.03486184,  0.01249247, -0.00903309, -0.05862528, -0.00569521,\n",
       "        -0.01117874, -0.04770559,  0.02519212, -0.02089863,  0.00897256,\n",
       "        -0.04764023,  0.00628024, -0.05733775], dtype=float32),\n",
       " array([[ 0.18317431],\n",
       "        [ 0.17302807],\n",
       "        [-0.01140117],\n",
       "        [-0.1277098 ],\n",
       "        [ 0.03151968],\n",
       "        [-0.12617442],\n",
       "        [ 0.1085385 ],\n",
       "        [ 0.31037104],\n",
       "        [-0.16593228],\n",
       "        [-0.08681086],\n",
       "        [ 0.03429032],\n",
       "        [-0.1178986 ],\n",
       "        [ 0.01984892],\n",
       "        [ 0.1090889 ],\n",
       "        [-0.0895967 ],\n",
       "        [ 0.0213665 ],\n",
       "        [ 0.08020674],\n",
       "        [ 0.1434386 ],\n",
       "        [ 0.13241097],\n",
       "        [ 0.13077435],\n",
       "        [ 0.27995926],\n",
       "        [ 0.04186538],\n",
       "        [ 0.24883793],\n",
       "        [ 0.20759371],\n",
       "        [-0.05000068],\n",
       "        [ 0.22447157],\n",
       "        [-0.20514725],\n",
       "        [ 0.09799348],\n",
       "        [-0.2106327 ],\n",
       "        [ 0.34522286],\n",
       "        [ 0.24861224],\n",
       "        [ 0.1280379 ],\n",
       "        [ 0.05443392],\n",
       "        [ 0.08865876],\n",
       "        [-0.07900787],\n",
       "        [-0.11815577],\n",
       "        [ 0.03779149],\n",
       "        [-0.18373543],\n",
       "        [-0.01794237],\n",
       "        [ 0.22310135],\n",
       "        [ 0.09079485],\n",
       "        [ 0.2171599 ],\n",
       "        [ 0.0019712 ],\n",
       "        [ 0.2086257 ],\n",
       "        [ 0.2219022 ],\n",
       "        [-0.21123998],\n",
       "        [-0.12780957],\n",
       "        [ 0.20323353],\n",
       "        [-0.32979023],\n",
       "        [-0.10360047],\n",
       "        [ 0.24616627],\n",
       "        [-0.0399189 ],\n",
       "        [-0.10430067],\n",
       "        [-0.16056693],\n",
       "        [-0.01583983],\n",
       "        [ 0.13390055],\n",
       "        [-0.2220827 ],\n",
       "        [-0.17149282],\n",
       "        [-0.11795575],\n",
       "        [ 0.20701271],\n",
       "        [ 0.10226078],\n",
       "        [ 0.19419746],\n",
       "        [-0.14105742],\n",
       "        [-0.16218877],\n",
       "        [-0.12313262],\n",
       "        [-0.10769535],\n",
       "        [ 0.04377733],\n",
       "        [ 0.05169525],\n",
       "        [ 0.30249134],\n",
       "        [-0.1453392 ],\n",
       "        [-0.14792748],\n",
       "        [ 0.20971777],\n",
       "        [-0.10956103],\n",
       "        [-0.0852819 ],\n",
       "        [-0.10552733],\n",
       "        [ 0.0450597 ],\n",
       "        [ 0.00677228],\n",
       "        [-0.04478161],\n",
       "        [ 0.3071093 ],\n",
       "        [-0.19189477],\n",
       "        [-0.07370631],\n",
       "        [ 0.26087755],\n",
       "        [-0.11488223],\n",
       "        [-0.8686907 ],\n",
       "        [-0.05387008],\n",
       "        [-0.09677915],\n",
       "        [-0.20515694],\n",
       "        [-0.12132706],\n",
       "        [-0.14944659],\n",
       "        [-0.17261589],\n",
       "        [-0.31023183],\n",
       "        [ 0.14170167],\n",
       "        [-0.12211972],\n",
       "        [ 0.10809477],\n",
       "        [ 0.00561971],\n",
       "        [ 0.31778958],\n",
       "        [-0.10419282],\n",
       "        [ 0.10654047],\n",
       "        [ 0.10558131],\n",
       "        [ 0.12360159],\n",
       "        [-0.08702797],\n",
       "        [ 0.05295363],\n",
       "        [-0.23750722],\n",
       "        [ 0.03713374],\n",
       "        [-0.06857675],\n",
       "        [ 0.0628821 ],\n",
       "        [ 0.1299639 ],\n",
       "        [-0.02110553],\n",
       "        [-0.14422475],\n",
       "        [-0.15800557],\n",
       "        [-0.00264596],\n",
       "        [ 0.00532731],\n",
       "        [-0.16485864],\n",
       "        [ 0.28601393],\n",
       "        [ 0.09137844],\n",
       "        [ 0.16581349],\n",
       "        [ 0.19638187],\n",
       "        [-0.20120063],\n",
       "        [ 0.30632046],\n",
       "        [-0.18381928],\n",
       "        [ 0.18654947],\n",
       "        [-0.17718633],\n",
       "        [ 0.15966837],\n",
       "        [-0.01989581],\n",
       "        [ 0.09548031],\n",
       "        [-0.16739501],\n",
       "        [ 0.05950827],\n",
       "        [-0.0869396 ]], dtype=float32),\n",
       " array([-0.41111356], dtype=float32)]"
      ]
     },
     "execution_count": 5,
     "metadata": {},
     "output_type": "execute_result"
    }
   ],
   "source": [
    "model.get_weights()"
   ]
  },
  {
   "cell_type": "code",
   "execution_count": 17,
   "metadata": {},
   "outputs": [],
   "source": [
    "# Assuming 'word_index', 'reverse_word_index', and 'sequence' have already been defined\n",
    "from keras.preprocessing import sequence\n",
    "\n",
    "# Decode encoded review back into human-readable text\n",
    "def decode_review(encoded_review):\n",
    "    return ' '.join([reverse_word_index.get(i-3, '?') for i in encoded_review])\n",
    "\n",
    "# Preprocess the text into encoded and padded form for model input\n",
    "def preprocess_text(text):\n",
    "    words = text.lower().split()  # Corrected .split() method\n",
    "    encoded_review = [word_index.get(word, 2) + 3 for word in words]  # Encode words, using 2 if not found\n",
    "    padded_review = sequence.pad_sequences([encoded_review], maxlen=500)  # Pad sequences to maxlen of 500\n",
    "    return padded_review\n"
   ]
  },
  {
   "cell_type": "code",
   "execution_count": 21,
   "metadata": {},
   "outputs": [],
   "source": [
    "def  predict_sentiment(review):\n",
    "    preprocing_input=preprocess_text(review) \n",
    "    prdiction=model.predict(preprocing_input)\n",
    "    sentiment='positive' if prdiction[0][0]> 0.5 else 'negative'\n",
    "    return sentiment,prdiction[0][0]\n"
   ]
  },
  {
   "cell_type": "code",
   "execution_count": 30,
   "metadata": {},
   "outputs": [],
   "source": [
    "example_review=\"the movie was  bad the acting was bad and the plot was worst\""
   ]
  },
  {
   "cell_type": "code",
   "execution_count": 31,
   "metadata": {},
   "outputs": [
    {
     "name": "stdout",
     "output_type": "stream",
     "text": [
      "\u001b[1m1/1\u001b[0m \u001b[32m━━━━━━━━━━━━━━━━━━━━\u001b[0m\u001b[37m\u001b[0m \u001b[1m0s\u001b[0m 32ms/step\n"
     ]
    },
    {
     "data": {
      "text/plain": [
       "('negative', 0.22155453)"
      ]
     },
     "execution_count": 31,
     "metadata": {},
     "output_type": "execute_result"
    }
   ],
   "source": [
    "predict_sentiment(example_review)"
   ]
  },
  {
   "cell_type": "code",
   "execution_count": null,
   "metadata": {},
   "outputs": [],
   "source": []
  }
 ],
 "metadata": {
  "kernelspec": {
   "display_name": "myenv",
   "language": "python",
   "name": "python3"
  },
  "language_info": {
   "codemirror_mode": {
    "name": "ipython",
    "version": 3
   },
   "file_extension": ".py",
   "mimetype": "text/x-python",
   "name": "python",
   "nbconvert_exporter": "python",
   "pygments_lexer": "ipython3",
   "version": "3.12.4"
  }
 },
 "nbformat": 4,
 "nbformat_minor": 2
}
